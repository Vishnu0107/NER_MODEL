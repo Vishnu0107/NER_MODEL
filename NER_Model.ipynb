{
 "cells": [
  {
   "cell_type": "code",
   "execution_count": 2,
   "id": "76ffb01b-8f18-4da7-93d9-6d70961281b0",
   "metadata": {},
   "outputs": [
    {
     "data": {
      "text/plain": [
       "\"\\nIf you haven't trained any model please use roberta-base. \\nAfter that if you have a trained model stored as an output folder and wish to fine tune it replace the outputs_1 \\nas the new outputs folder or model folder other wise just use roberta-base\\n\""
      ]
     },
     "execution_count": 2,
     "metadata": {},
     "output_type": "execute_result"
    }
   ],
   "source": [
    "from simpletransformers.ner import NERModel, NERArgs\n",
    "import pandas as pd\n",
    "import torch\n",
    "\n",
    "# Define model arguments\n",
    "model_args = NERArgs()\n",
    "#model_args.labels_list = [\"O\", \"B-PER\", \"I-PER\", \"B-ORG\", \"I-ORG\", \"B-LOC\", \"I-LOC\", \"B-EMAIL\", \"I-EMAIL\", \"B-QUANTITY\", \"I-QUANTITY\", \"B-PRICE\", \"I-PRICE\"]\n",
    "model_args.num_train_epochs = 10\n",
    "model_args.train_batch_size = 16\n",
    "model_args.eval_batch_size = 16\n",
    "model_args.save_steps = -1\n",
    "model_args.overwrite_output_dir = True\n",
    "\n",
    "# Initialize the NER model\n",
    "model = NERModel(\n",
    "    \"roberta\",\n",
    "    \"outputs_2\",\n",
    "    args=model_args,\n",
    "    use_cuda=torch.cuda.is_available()\n",
    ")\n",
    "\n",
    "'''\n",
    "If you haven't trained any model please use roberta-base. \n",
    "After that if you have a trained model stored as an output folder and wish to fine tune it replace the outputs_1 \n",
    "as the new outputs folder or model folder other wise just use roberta-base\n",
    "'''"
   ]
  },
  {
   "cell_type": "code",
   "execution_count": 6,
   "id": "ae941140-c595-41a3-bd19-20a8182086f3",
   "metadata": {},
   "outputs": [
    {
     "name": "stdout",
     "output_type": "stream",
     "text": [
      "{'I-ORG', 'I-LOC', 'I-PER', 'O', 'I-MISC'}\n"
     ]
    }
   ],
   "source": [
    "def get_unique_labels(file_path):\n",
    "    unique_labels = set()\n",
    "    with open(file_path, 'r', encoding='utf-8') as f:\n",
    "        for line in f:\n",
    "            if line.strip() and not line.startswith('-DOCSTART-'):\n",
    "                _, _, _, ner = line.strip().split()\n",
    "                unique_labels.add(ner)\n",
    "    return unique_labels\n",
    "\n",
    "train_labels = get_unique_labels('datasets/FIN5.txt')\n",
    "valid_labels = get_unique_labels('datasets/FIN3.txt')\n",
    "test_labels = get_unique_labels('datasets/FIN3.txt')\n",
    "\n",
    "all_labels = train_labels.union(test_labels)\n",
    "print(all_labels)\n"
   ]
  },
  {
   "cell_type": "code",
   "execution_count": 7,
   "id": "dc513304-6d7c-4933-bf04-c0ef45931a95",
   "metadata": {},
   "outputs": [],
   "source": [
    "def read_data(file_path):\n",
    "    sentences = []\n",
    "    labels = []\n",
    "    with open(file_path, 'r',encoding=\"utf-8\") as f:\n",
    "        sentence = []\n",
    "        label = []\n",
    "        for line in f:\n",
    "            if line.strip() == \"\":\n",
    "                if sentence:\n",
    "                    sentences.append(sentence)\n",
    "                    labels.append(label)\n",
    "                    sentence = []\n",
    "                    label = []\n",
    "            else:\n",
    "                word, pos, chunk, ner = line.strip().split()\n",
    "                sentence.append(word)\n",
    "                label.append(ner)\n",
    "        if sentence:\n",
    "            sentences.append(sentence)\n",
    "            labels.append(label)\n",
    "    return sentences, labels\n",
    "\n",
    "train_sentences, train_labels = read_data('datasets/FIN5.txt')\n",
    "valid_sentences, valid_labels = read_data('datasets/FIN3.txt')\n",
    "test_sentences, test_labels = read_data('datasets/FIN3.txt')\n",
    "\n",
    "# Convert data to DataFrame\n",
    "def convert_to_df(sentences, labels):\n",
    "    data = []\n",
    "    for i in range(len(sentences)):\n",
    "        for j in range(len(sentences[i])):\n",
    "            data.append([i, sentences[i][j], labels[i][j]])\n",
    "    return pd.DataFrame(data, columns=[\"sentence_id\", \"words\", \"labels\"])\n",
    "\n",
    "train_df = convert_to_df(train_sentences, train_labels)\n",
    "valid_df = convert_to_df(valid_sentences, valid_labels)\n",
    "test_df = convert_to_df(test_sentences, test_labels)\n"
   ]
  },
  {
   "cell_type": "code",
   "execution_count": 8,
   "id": "43e597f1-d15e-47bc-b05a-45d6ebeb1487",
   "metadata": {},
   "outputs": [
    {
     "data": {
      "application/vnd.jupyter.widget-view+json": {
       "model_id": "25d6977bc8fb4c909e4cec31ceab800c",
       "version_major": 2,
       "version_minor": 0
      },
      "text/plain": [
       "  0%|          | 0/3 [00:00<?, ?it/s]"
      ]
     },
     "metadata": {},
     "output_type": "display_data"
    },
    {
     "data": {
      "application/vnd.jupyter.widget-view+json": {
       "model_id": "23fa6d3013d34a9a833365148a4b99f5",
       "version_major": 2,
       "version_minor": 0
      },
      "text/plain": [
       "Epoch:   0%|          | 0/10 [00:00<?, ?it/s]"
      ]
     },
     "metadata": {},
     "output_type": "display_data"
    },
    {
     "data": {
      "application/vnd.jupyter.widget-view+json": {
       "model_id": "6035bf0404a84ae4a3fb09786a165b3f",
       "version_major": 2,
       "version_minor": 0
      },
      "text/plain": [
       "Running Epoch 1 of 10:   0%|          | 0/74 [00:00<?, ?it/s]"
      ]
     },
     "metadata": {},
     "output_type": "display_data"
    },
    {
     "data": {
      "application/vnd.jupyter.widget-view+json": {
       "model_id": "5df3cb61c26243dea33e52ca54bb6b93",
       "version_major": 2,
       "version_minor": 0
      },
      "text/plain": [
       "Running Epoch 2 of 10:   0%|          | 0/74 [00:00<?, ?it/s]"
      ]
     },
     "metadata": {},
     "output_type": "display_data"
    },
    {
     "data": {
      "application/vnd.jupyter.widget-view+json": {
       "model_id": "500899f693c648539c33474a60f360e1",
       "version_major": 2,
       "version_minor": 0
      },
      "text/plain": [
       "Running Epoch 3 of 10:   0%|          | 0/74 [00:00<?, ?it/s]"
      ]
     },
     "metadata": {},
     "output_type": "display_data"
    },
    {
     "data": {
      "application/vnd.jupyter.widget-view+json": {
       "model_id": "2150591e7ef04f7b887497444f2681ef",
       "version_major": 2,
       "version_minor": 0
      },
      "text/plain": [
       "Running Epoch 4 of 10:   0%|          | 0/74 [00:00<?, ?it/s]"
      ]
     },
     "metadata": {},
     "output_type": "display_data"
    },
    {
     "data": {
      "application/vnd.jupyter.widget-view+json": {
       "model_id": "9ac1804d343b4f409ab65ea786981c54",
       "version_major": 2,
       "version_minor": 0
      },
      "text/plain": [
       "Running Epoch 5 of 10:   0%|          | 0/74 [00:00<?, ?it/s]"
      ]
     },
     "metadata": {},
     "output_type": "display_data"
    },
    {
     "data": {
      "application/vnd.jupyter.widget-view+json": {
       "model_id": "7a01edf0f28a4f5bacf0b70942b94dc0",
       "version_major": 2,
       "version_minor": 0
      },
      "text/plain": [
       "Running Epoch 6 of 10:   0%|          | 0/74 [00:00<?, ?it/s]"
      ]
     },
     "metadata": {},
     "output_type": "display_data"
    },
    {
     "data": {
      "application/vnd.jupyter.widget-view+json": {
       "model_id": "fd4a3e38add94f24a1486c888ea73d6d",
       "version_major": 2,
       "version_minor": 0
      },
      "text/plain": [
       "Running Epoch 7 of 10:   0%|          | 0/74 [00:00<?, ?it/s]"
      ]
     },
     "metadata": {},
     "output_type": "display_data"
    },
    {
     "data": {
      "application/vnd.jupyter.widget-view+json": {
       "model_id": "700348e24c11427b9bba7d1ba5517fa1",
       "version_major": 2,
       "version_minor": 0
      },
      "text/plain": [
       "Running Epoch 8 of 10:   0%|          | 0/74 [00:00<?, ?it/s]"
      ]
     },
     "metadata": {},
     "output_type": "display_data"
    },
    {
     "data": {
      "application/vnd.jupyter.widget-view+json": {
       "model_id": "e6947a225d7a43899553ecb373c9f17c",
       "version_major": 2,
       "version_minor": 0
      },
      "text/plain": [
       "Running Epoch 9 of 10:   0%|          | 0/74 [00:00<?, ?it/s]"
      ]
     },
     "metadata": {},
     "output_type": "display_data"
    },
    {
     "data": {
      "application/vnd.jupyter.widget-view+json": {
       "model_id": "60adb7e42f47426d8ad0d1208ac472f8",
       "version_major": 2,
       "version_minor": 0
      },
      "text/plain": [
       "Running Epoch 10 of 10:   0%|          | 0/74 [00:00<?, ?it/s]"
      ]
     },
     "metadata": {},
     "output_type": "display_data"
    },
    {
     "data": {
      "text/plain": [
       "(740, 0.0035629436349424665)"
      ]
     },
     "execution_count": 8,
     "metadata": {},
     "output_type": "execute_result"
    }
   ],
   "source": [
    "model.train_model(train_df, eval_data=valid_df)"
   ]
  },
  {
   "cell_type": "code",
   "execution_count": 4,
   "id": "b0c37bdd-7a5a-493f-9e05-45f14d93ad93",
   "metadata": {},
   "outputs": [],
   "source": [
    "# Load the trained model\n",
    "model = NERModel(\n",
    "    \"roberta\",\n",
    "    \"outputs_3\",\n",
    "    args=model_args,\n",
    "    use_cuda=torch.cuda.is_available()\n",
    ")"
   ]
  },
  {
   "cell_type": "code",
   "execution_count": 10,
   "id": "a972788e-7c64-49d7-bc61-73471ce7281a",
   "metadata": {},
   "outputs": [
    {
     "data": {
      "application/vnd.jupyter.widget-view+json": {
       "model_id": "70cbb153b0434deabc4f0197f4675544",
       "version_major": 2,
       "version_minor": 0
      },
      "text/plain": [
       "  0%|          | 0/1 [00:00<?, ?it/s]"
      ]
     },
     "metadata": {},
     "output_type": "display_data"
    },
    {
     "data": {
      "application/vnd.jupyter.widget-view+json": {
       "model_id": "c59c798adeb14ff1b8c27ab49565a814",
       "version_major": 2,
       "version_minor": 0
      },
      "text/plain": [
       "Running Prediction:   0%|          | 0/1 [00:00<?, ?it/s]"
      ]
     },
     "metadata": {},
     "output_type": "display_data"
    },
    {
     "name": "stdout",
     "output_type": "stream",
     "text": [
      "[[{'\"Good': 'O'}, {'morning,': 'O'}, {'this': 'O'}, {'is': 'O'}, {'Lisa': 'I-PER'}, {'from': 'O'}, {'JKL': 'I-ORG'}, {'Automotive.': 'I-ORG'}, {'We': 'O'}, {'would': 'O'}, {'like': 'O'}, {'to': 'O'}, {'order': 'O'}, {'75': 'O'}, {'units': 'O'}, {'of': 'O'}, {'the': 'O'}, {'high-performance': 'O'}, {'brake': 'O'}, {'pads,': 'O'}, {'item': 'O'}, {'number': 'O'}, {'BP654,': 'O'}, {'at': 'O'}, {'$35': 'O'}, {'each.': 'O'}, {'Can': 'O'}, {'you': 'O'}, {'ensure': 'O'}, {'they': 'O'}, {'are': 'O'}, {'delivered': 'O'}, {'to': 'O'}, {'our': 'O'}, {'main': 'O'}, {'office': 'O'}, {'at': 'O'}, {'789': 'I-LOC'}, {'Auto': 'I-LOC'}, {'Drive': 'I-LOC'}, {'by': 'O'}, {'next': 'O'}, {'Tuesday?': 'O'}, {'Also,': 'O'}, {'send': 'O'}, {'the': 'O'}, {'total': 'O'}, {'cost': 'O'}, {'and': 'O'}, {'shipping': 'O'}, {'details': 'O'}, {'to': 'O'}, {'my': 'O'}, {'email': 'O'}, {'at': 'O'}, {'lisa@jklauto.com.': 'I-PER'}, {'We': 'O'}, {'need': 'O'}, {'these': 'O'}, {'urgently,': 'O'}, {'so': 'O'}, {'please': 'O'}, {'expedite': 'O'}, {'the': 'O'}, {'order.': 'O'}, {'You': 'O'}, {'can': 'O'}, {'reach': 'O'}, {'me': 'O'}, {'directly': 'O'}, {'at': 'O'}, {'(555)': 'O'}, {'321-0987': 'O'}, {'for': 'O'}, {'any': 'O'}, {'questions.': 'O'}, {'Appreciate': 'O'}, {'it!\"': 'O'}]]\n"
     ]
    }
   ],
   "source": [
    "# Sample text to test the model\n",
    "text_to_extract = \"\"\"\n",
    "\"Good morning, this is Lisa from JKL Automotive. We would like to order 75 units of the high-performance brake pads, item number BP654, at $35 each. Can you ensure they are delivered to our main office at 789 Auto Drive by next Tuesday? Also, send the total cost and shipping details to my email at lisa@jklauto.com. We need these urgently, so please expedite the order. You can reach me directly at (555) 321-0987 for any questions. Appreciate it!\"\n",
    "\"\"\"\n",
    "\n",
    "# Perform NER prediction\n",
    "predictions, raw_outputs = model.predict([text_to_extract])\n",
    "\n",
    "print(predictions)"
   ]
  },
  {
   "cell_type": "code",
   "execution_count": 11,
   "id": "01e93de8-ced0-4aae-b8a0-82a56aaa1458",
   "metadata": {},
   "outputs": [
    {
     "name": "stdout",
     "output_type": "stream",
     "text": [
      "I-ORG  :  JKL Automotive. \n",
      "I-LOC  :  789 Auto Drive \n",
      "I-PER  :  Lisa lisa@jklauto.com. \n",
      "I-MISC  :  \n"
     ]
    }
   ],
   "source": [
    "d={'I-ORG':\"\", 'I-LOC':\"\", 'O':\"\", 'I-PER':\"\", 'I-MISC':\"\"}\n",
    "for i in predictions[0]:\n",
    "    t=list(i.keys());t1=list(i.values())\n",
    "    k,v=t[0],t1[0]\n",
    "    if v!=\"0\" or v!=\"O\":\n",
    "        d[v]+=k+\" \"\n",
    "for k,v in d.items():\n",
    "    if k!='O':\n",
    "        print(k,\" : \",v)"
   ]
  },
  {
   "cell_type": "code",
   "execution_count": 5,
   "id": "b7df4e01-bcf2-41d0-9ef3-56d5554a882f",
   "metadata": {},
   "outputs": [
    {
     "data": {
      "application/vnd.jupyter.widget-view+json": {
       "model_id": "6688bd0d0ec24556b82b5d738c9682d9",
       "version_major": 2,
       "version_minor": 0
      },
      "text/plain": [
       "  0%|          | 0/1 [00:00<?, ?it/s]"
      ]
     },
     "metadata": {},
     "output_type": "display_data"
    },
    {
     "data": {
      "application/vnd.jupyter.widget-view+json": {
       "model_id": "df6b31b7efbd47a8b562fa5e84e57c47",
       "version_major": 2,
       "version_minor": 0
      },
      "text/plain": [
       "Running Prediction:   0%|          | 0/1 [00:00<?, ?it/s]"
      ]
     },
     "metadata": {},
     "output_type": "display_data"
    },
    {
     "name": "stdout",
     "output_type": "stream",
     "text": [
      "I-ORG  :  ABC Manufacturing. \n",
      "I-LOC  :  123 Industrial Park \n",
      "I-PER  :  Jane jane.doe@abcmfg.com. \n",
      "I-MISC  :  \n"
     ]
    }
   ],
   "source": [
    "# Sample text to test the model\n",
    "text_to_extract = \"\"\"\n",
    "\"Hi, this is Jane from ABC Manufacturing. I'd like to place an order for 50 units of your high-grade steel rods, item number ST123. Each unit is priced at $45. Please ensure the total cost is applied to our corporate account. We need these delivered to our warehouse at 123 Industrial Park by next Wednesday. Can you also include the quality certificates with the shipment? Please confirm the order and delivery date via email at jane.doe@abcmfg.com. Thank you!\"\n",
    "\"\"\"\n",
    "# Perform NER prediction\n",
    "predictions, raw_outputs = model.predict([text_to_extract])\n",
    "\n",
    "d={'I-ORG':\"\", 'I-LOC':\"\", 'O':\"\", 'I-PER':\"\", 'I-MISC':\"\"}\n",
    "for i in predictions[0]:\n",
    "    t=list(i.keys());t1=list(i.values())\n",
    "    k,v=t[0],t1[0]\n",
    "    if v!=\"0\" or v!=\"O\":\n",
    "        d[v]+=k+\" \"\n",
    "for k,v in d.items():\n",
    "    if k!='O':\n",
    "        print(k,\" : \",v)"
   ]
  },
  {
   "cell_type": "code",
   "execution_count": 6,
   "id": "94428dd1-cbfe-4ba4-b919-924b592d60c4",
   "metadata": {},
   "outputs": [
    {
     "data": {
      "application/vnd.jupyter.widget-view+json": {
       "model_id": "4b5e6349a8a64d5786e86bb5c286ea7a",
       "version_major": 2,
       "version_minor": 0
      },
      "text/plain": [
       "  0%|          | 0/1 [00:00<?, ?it/s]"
      ]
     },
     "metadata": {},
     "output_type": "display_data"
    },
    {
     "data": {
      "application/vnd.jupyter.widget-view+json": {
       "model_id": "31fb7f9fe7c248c2aece9f671eff273b",
       "version_major": 2,
       "version_minor": 0
      },
      "text/plain": [
       "Running Prediction:   0%|          | 0/1 [00:00<?, ?it/s]"
      ]
     },
     "metadata": {},
     "output_type": "display_data"
    },
    {
     "name": "stdout",
     "output_type": "stream",
     "text": [
      "I-ORG  :  XYZ Construction. \n",
      "I-LOC  :  789 Construction Blvd? \n",
      "I-PER  :  Mike \n",
      "I-MISC  :  \n"
     ]
    }
   ],
   "source": [
    "# Sample text to test the model\n",
    "text_to_extract = \"\"\"\n",
    "\"Good afternoon, this is Mike from XYZ Construction. We need to order 100 gallons of industrial paint, item code IP456, priced at $30 per gallon. Could you expedite the shipping to ensure delivery by Friday to our site at 789 Construction Blvd? We also need a safety data sheet included. Please confirm the total amount and send the invoice to our accounting department at accounting@xyzcon.com. You can reach me at (555) 123-4567 if there are any issues. Thanks!\"\n",
    "\"\"\"\n",
    "# Perform NER prediction\n",
    "predictions, raw_outputs = model.predict([text_to_extract])\n",
    "\n",
    "d={'I-ORG':\"\", 'I-LOC':\"\", 'O':\"\", 'I-PER':\"\", 'I-MISC':\"\"}\n",
    "for i in predictions[0]:\n",
    "    t=list(i.keys());t1=list(i.values())\n",
    "    k,v=t[0],t1[0]\n",
    "    if v!=\"0\" or v!=\"O\":\n",
    "        d[v]+=k+\" \"\n",
    "for k,v in d.items():\n",
    "    if k!='O':\n",
    "        print(k,\" : \",v)"
   ]
  },
  {
   "cell_type": "code",
   "execution_count": 7,
   "id": "a8b02060-2b55-457e-a916-c7af7206fc16",
   "metadata": {},
   "outputs": [
    {
     "data": {
      "application/vnd.jupyter.widget-view+json": {
       "model_id": "8a6be9934d664de08cbd799a331593c7",
       "version_major": 2,
       "version_minor": 0
      },
      "text/plain": [
       "  0%|          | 0/1 [00:00<?, ?it/s]"
      ]
     },
     "metadata": {},
     "output_type": "display_data"
    },
    {
     "data": {
      "application/vnd.jupyter.widget-view+json": {
       "model_id": "d4221c0056cd423583b0771d73a21021",
       "version_major": 2,
       "version_minor": 0
      },
      "text/plain": [
       "Running Prediction:   0%|          | 0/1 [00:00<?, ?it/s]"
      ]
     },
     "metadata": {},
     "output_type": "display_data"
    },
    {
     "name": "stdout",
     "output_type": "stream",
     "text": [
      "I-ORG  :  DEF Tech. \n",
      "I-LOC  :  456 Tech Avenue \n",
      "I-PER  :  Sarah \n",
      "I-MISC  :  \n"
     ]
    }
   ],
   "source": [
    "# Sample text to test the model\n",
    "text_to_extract = \"\"\"\n",
    "\"Hello, this is Sarah from DEF Tech. I'm calling to order 20 units of the advanced microprocessors, item ID MP789, at $200 each. We need these shipped to our main facility at 456 Tech Avenue by the end of the week. Could you ensure they are packaged securely to prevent any damage? Please charge this to our existing credit account and email me the confirmation and tracking information at sarah@deftech.com. My contact number is (555) 987-6543 if you need to reach me. Thanks!\"\n",
    "\"\"\"\n",
    "# Perform NER prediction\n",
    "predictions, raw_outputs = model.predict([text_to_extract])\n",
    "\n",
    "d={'I-ORG':\"\", 'I-LOC':\"\", 'O':\"\", 'I-PER':\"\", 'I-MISC':\"\"}\n",
    "for i in predictions[0]:\n",
    "    t=list(i.keys());t1=list(i.values())\n",
    "    k,v=t[0],t1[0]\n",
    "    if v!=\"0\" or v!=\"O\":\n",
    "        d[v]+=k+\" \"\n",
    "for k,v in d.items():\n",
    "    if k!='O':\n",
    "        print(k,\" : \",v)"
   ]
  },
  {
   "cell_type": "code",
   "execution_count": 8,
   "id": "97673e74-7d80-4459-a565-d20e7a7ecd75",
   "metadata": {},
   "outputs": [
    {
     "data": {
      "application/vnd.jupyter.widget-view+json": {
       "model_id": "714a206c5cdb463eaf69a4e040cec2ac",
       "version_major": 2,
       "version_minor": 0
      },
      "text/plain": [
       "  0%|          | 0/1 [00:00<?, ?it/s]"
      ]
     },
     "metadata": {},
     "output_type": "display_data"
    },
    {
     "data": {
      "application/vnd.jupyter.widget-view+json": {
       "model_id": "63843509dbb24ee2bcdd10d4995f92dd",
       "version_major": 2,
       "version_minor": 0
      },
      "text/plain": [
       "Running Prediction:   0%|          | 0/1 [00:00<?, ?it/s]"
      ]
     },
     "metadata": {},
     "output_type": "display_data"
    },
    {
     "name": "stdout",
     "output_type": "stream",
     "text": [
      "I-ORG  :  GHI Logistics. \n",
      "I-LOC  :  321 Freight Lane. \n",
      "I-PER  :  Tom tom@ghilogistics.com \n",
      "I-MISC  :  \n"
     ]
    }
   ],
   "source": [
    "# Sample text to test the model\n",
    "text_to_extract = \"\"\"\n",
    "\"Hi, this is Tom from GHI Logistics. I need to place an order for 150 units of your heavy-duty cargo straps, item code CS321, each priced at $12. Please process this order as soon as possible and confirm the delivery date. Ship them to our depot at 321 Freight Lane. We require a proof of delivery upon receipt. Please send the invoice to our finance team at finance@ghilogistics.com and confirm the order with me at tom@ghilogistics.com or (555) 654-3210. Thanks!\"\n",
    "\"\"\"\n",
    "# Perform NER prediction\n",
    "predictions, raw_outputs = model.predict([text_to_extract])\n",
    "\n",
    "d={'I-ORG':\"\", 'I-LOC':\"\", 'O':\"\", 'I-PER':\"\", 'I-MISC':\"\"}\n",
    "for i in predictions[0]:\n",
    "    t=list(i.keys());t1=list(i.values())\n",
    "    k,v=t[0],t1[0]\n",
    "    if v!=\"0\" or v!=\"O\":\n",
    "        d[v]+=k+\" \"\n",
    "for k,v in d.items():\n",
    "    if k!='O':\n",
    "        print(k,\" : \",v)"
   ]
  }
 ],
 "metadata": {
  "kernelspec": {
   "display_name": "ldb_k",
   "language": "python",
   "name": "ldb"
  },
  "language_info": {
   "codemirror_mode": {
    "name": "ipython",
    "version": 3
   },
   "file_extension": ".py",
   "mimetype": "text/x-python",
   "name": "python",
   "nbconvert_exporter": "python",
   "pygments_lexer": "ipython3",
   "version": "3.9.19"
  }
 },
 "nbformat": 4,
 "nbformat_minor": 5
}
